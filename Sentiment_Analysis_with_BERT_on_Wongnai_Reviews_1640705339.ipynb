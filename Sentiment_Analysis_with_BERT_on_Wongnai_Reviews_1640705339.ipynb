{
 "cells": [
  {
   "cell_type": "markdown",
   "metadata": {},
   "source": [
    "# 1. Import Libraries and Load Data"
   ]
  },
  {
   "cell_type": "code",
   "execution_count": null,
   "metadata": {},
   "outputs": [],
   "source": [
    "from transformers import AutoTokenizer, AutoModel\n",
    "#https://huggingface.co/monsoon-nlp/bert-base-thai\n",
    "pretrained  = 'monsoon-nlp/bert-base-thai'"
   ]
  },
  {
   "cell_type": "code",
   "execution_count": null,
   "metadata": {},
   "outputs": [],
   "source": [
    "name = pretrained"
   ]
  },
  {
   "cell_type": "code",
   "execution_count": null,
   "metadata": {},
   "outputs": [],
   "source": [
    "!pip -q install simpletransformers"
   ]
  },
  {
   "cell_type": "code",
   "execution_count": null,
   "metadata": {},
   "outputs": [],
   "source": [
    "!pip -q install pythainlp"
   ]
  },
  {
   "cell_type": "code",
   "execution_count": null,
   "metadata": {},
   "outputs": [],
   "source": [
    "#https://huggingface.co/datasets/Wongnai/wongnai_reviews\n",
    "from datasets import load_dataset\n",
    "wongnai_ds = load_dataset('wongnai_reviews')"
   ]
  },
  {
   "cell_type": "code",
   "execution_count": null,
   "metadata": {},
   "outputs": [],
   "source": [
    "wongnai_ds"
   ]
  },
  {
   "cell_type": "code",
   "execution_count": null,
   "metadata": {},
   "outputs": [],
   "source": [
    "import numpy as np\n",
    "import pandas as pd\n",
    "num_labels = len(np.unique(np.array(np.array(wongnai_ds['train']['star_rating']))))"
   ]
  },
  {
   "cell_type": "code",
   "execution_count": null,
   "metadata": {},
   "outputs": [],
   "source": [
    "num_labels"
   ]
  },
  {
   "cell_type": "code",
   "execution_count": null,
   "metadata": {},
   "outputs": [],
   "source": [
    "wongnai = pd.DataFrame(wongnai_ds['train'])"
   ]
  },
  {
   "cell_type": "code",
   "execution_count": null,
   "metadata": {},
   "outputs": [],
   "source": [
    "#Use small dataset\n",
    "wongnai_train = wongnai.sample(frac=0.5) #0.2\n",
    "wongnai_eval = wongnai.sample(frac=0.1) #0.04\n",
    "print('wongnai_train',wongnai_train.shape)\n",
    "print('wongnai_eval ',wongnai_eval .shape)"
   ]
  },
  {
   "cell_type": "code",
   "execution_count": null,
   "metadata": {},
   "outputs": [],
   "source": [
    "wongnai_eval"
   ]
  },
  {
   "cell_type": "code",
   "execution_count": null,
   "metadata": {},
   "outputs": [],
   "source": [
    "#https://simpletransformers.ai/docs/classification-data-formats/\n",
    "!pip install matplotlib\n",
    "from pythainlp.tokenize import word_tokenize\n",
    "wongnai_train['text'] = wongnai_train['review_body'].apply(lambda x:' '.join(word_tokenize(x)))\n",
    "wongnai_train['labels'] = wongnai_train['star_rating']\n",
    "wongnai_train.labels = pd.Categorical(wongnai_train.labels)"
   ]
  },
  {
   "cell_type": "code",
   "execution_count": null,
   "metadata": {},
   "outputs": [],
   "source": [
    "wongnai_eval['text'] = wongnai_eval['review_body'].apply(lambda x:' '.join(word_tokenize(x)))\n",
    "wongnai_eval['labels'] = wongnai_eval['star_rating']\n",
    "wongnai_eval.labels = pd.Categorical(wongnai_eval.labels)"
   ]
  },
  {
   "cell_type": "code",
   "execution_count": null,
   "metadata": {},
   "outputs": [],
   "source": [
    "wongnai_train"
   ]
  },
  {
   "cell_type": "code",
   "execution_count": null,
   "metadata": {},
   "outputs": [],
   "source": [
    "wongnai_train['labels'].hist()"
   ]
  },
  {
   "cell_type": "code",
   "execution_count": null,
   "metadata": {},
   "outputs": [],
   "source": [
    "wongnai_train = pd.concat([\n",
    "    wongnai_train[wongnai_train['labels']==0].sample(n=500,replace = True),\n",
    "    wongnai_train[wongnai_train['labels']==1].sample(n=500,replace = True),\n",
    "    wongnai_train[wongnai_train['labels']==2].sample(n=500,replace = True),\n",
    "    wongnai_train[wongnai_train['labels']==3].sample(n=500,replace = True),\n",
    "    wongnai_train[wongnai_train['labels']==4].sample(n=500,replace = True),\n",
    "\n",
    "],axis = 0)"
   ]
  },
  {
   "cell_type": "code",
   "execution_count": null,
   "metadata": {},
   "outputs": [],
   "source": [
    "wongnai_train['labels'].hist()"
   ]
  },
  {
   "cell_type": "markdown",
   "metadata": {},
   "source": [
    "# 3. Model Training and Evaluation"
   ]
  },
  {
   "cell_type": "code",
   "execution_count": null,
   "metadata": {},
   "outputs": [],
   "source": [
    "!pip install torch torchvision torchaudio\n",
    "\n",
    "from simpletransformers.classification import ClassificationModel, ClassificationArgs\n",
    "import sklearn\n",
    "model_args = {\n",
    "    'train_batch_size':32,\n",
    "    'num_train_epochs': 150,\n",
    "    'use_cached_eval_features': False,\n",
    "    'no_cache': True,\n",
    "    'overwrite_output_dir': True\n",
    "    #'early_stopping_patience': 3,  # Number of epochs with no improvement before stopping\n",
    "    #'early_stopping_delta': 0.01,  # Minimum change in evaluation metric to be considered an improvement\n",
    "    #'evaluate_during_training': True,  # Required for early stopping\n",
    "}"
   ]
  },
  {
   "cell_type": "code",
   "execution_count": null,
   "metadata": {},
   "outputs": [],
   "source": [
    "model = ClassificationModel(\n",
    "    'bert',\n",
    "    name,\n",
    "    args = model_args,\n",
    "    num_labels=num_labels,\n",
    ")\n",
    "\n",
    "history = model.train_model(wongnai_train, eval_df = wongnai_eval, acc = sklearn.metrics.accuracy_score)"
   ]
  },
  {
   "cell_type": "code",
   "execution_count": null,
   "metadata": {},
   "outputs": [],
   "source": [
    "result, model_outputs, wrong_predictions = model.eval_model(wongnai_eval)"
   ]
  },
  {
   "cell_type": "code",
   "execution_count": null,
   "metadata": {},
   "outputs": [],
   "source": [
    "from sklearn.metrics import confusion_matrix\n",
    "import matplotlib.pyplot as plt\n",
    "import seaborn as sns\n",
    "\n",
    "y_true = wongnai_eval['labels'].values\n",
    "y_pred = np.argmax(model_outputs, axis=1)\n",
    "\n",
    "cm = confusion_matrix(y_true, y_pred)\n",
    "\n",
    "plt.figure(figsize=(8, 6))\n",
    "sns.heatmap(cm, annot=True, fmt='d', cmap='Blues',\n",
    "            xticklabels=range(num_labels), yticklabels=range(num_labels))\n",
    "plt.xlabel('Predicted Labels')\n",
    "plt.ylabel('True Labels')\n",
    "plt.title('Confusion Matrix')\n",
    "plt.show()"
   ]
  },
  {
   "cell_type": "code",
   "execution_count": null,
   "metadata": {},
   "outputs": [],
   "source": [
    "# classification report\n",
    "from sklearn.metrics import classification_report\n",
    "\n",
    "print(classification_report(y_true, y_pred))\n"
   ]
  },
  {
   "cell_type": "code",
   "execution_count": null,
   "metadata": {},
   "outputs": [],
   "source": [
    "model.predict(['แย่ มาก กิน ไม่ ได้ เลย'])"
   ]
  }
 ],
 "metadata": {
  "kernelspec": {
   "display_name": "Python 3",
   "language": "python",
   "name": "python3"
  },
  "language_info": {
   "codemirror_mode": {
    "name": "ipython",
    "version": 3
   },
   "file_extension": ".py",
   "mimetype": "text/x-python",
   "name": "python",
   "nbconvert_exporter": "python",
   "pygments_lexer": "ipython3",
   "version": "3.12.9"
  }
 },
 "nbformat": 4,
 "nbformat_minor": 2
}
